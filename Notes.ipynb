{
 "cells": [
  {
   "cell_type": "markdown",
   "metadata": {},
   "source": [
    "\"You will seek me and find me when you seek me with all your heart.\" —Jeremiah 29:13"
   ]
  },
  {
   "attachments": {},
   "cell_type": "markdown",
   "metadata": {},
   "source": [
    "This contains notes from pytorch course \n",
    "> https://classroom.udacity.com/courses/ud188/lessons/c5706f76-0e30-4b48-b74e-c19fafc33a75/concepts/4e645270-9102-4683-b1b9-a2376e68f10d![image.png](attachment:image.png)"
   ]
  },
  {
   "cell_type": "markdown",
   "metadata": {},
   "source": [
    "## Matrix multiplication\n",
    "- torch.nn : **preferred method**\n",
    "- torch.matmul : does matrix multiplication but also does some broadcasting that might cause errors to go unnoticed"
   ]
  },
  {
   "cell_type": "markdown",
   "metadata": {},
   "source": [
    "## Multiply a tensor:\n",
    "- inplace multiplication `_` implies in place --> b_tensor.mul_(2)"
   ]
  },
  {
   "cell_type": "markdown",
   "metadata": {},
   "source": [
    "## Reshape / Resize\n",
    "- torch.view(n,m)  : **preferred method**\n",
    "    - does not make a copy\n",
    "    - does not change the shape of the original datastructure\n",
    "    - if I dont know how many rows I want but I know how many columns I want then I can just say n=-1. Based on number of columns it will automatically calculate the number of rows\n",
    "    - similarly for unknown # of columns, I can say m=-1. I will have to specify proper `n` value though\n",
    "- torch.reshape(n,m) : sometimes, this can make a copy of the original datastructure\n",
    "- torch.resize(n,m): \n",
    "    - if the dimensions are bigger than the original then you will have random values\n",
    "    - if dimensions are smaller, then some data will be cropped out. \n",
    "    - So it is easy to make errors and not notice with this method"
   ]
  },
  {
   "cell_type": "markdown",
   "metadata": {},
   "source": [
    "## Numpy\n",
    "- to convert tensor to numpy --> torch.numpy(b_tensor)\n",
    "- numpy to tensor --> torch.from_numpy(a_array)\n",
    "memory is shared between np array & torch so any change in 1 is reflected in another"
   ]
  },
  {
   "cell_type": "markdown",
   "metadata": {},
   "source": [
    "## Reading Data from Folders\n",
    "- use datasets\n",
    "- datasets are passed as arguments to dataloaders along with batch_size\n",
    "- we can pass dataloaders into iter() to iterate"
   ]
  },
  {
   "cell_type": "code",
   "execution_count": null,
   "metadata": {},
   "outputs": [],
   "source": []
  }
 ],
 "metadata": {
  "kernelspec": {
   "display_name": "Python 3",
   "language": "python",
   "name": "python3"
  },
  "language_info": {
   "codemirror_mode": {
    "name": "ipython",
    "version": 3
   },
   "file_extension": ".py",
   "mimetype": "text/x-python",
   "name": "python",
   "nbconvert_exporter": "python",
   "pygments_lexer": "ipython3",
   "version": "3.8.5"
  }
 },
 "nbformat": 4,
 "nbformat_minor": 4
}
